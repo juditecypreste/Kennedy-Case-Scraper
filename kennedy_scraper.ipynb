{
 "cells": [
  {
   "cell_type": "code",
   "execution_count": null,
   "id": "b5754319-a816-4c18-95f6-e853efbbdae5",
   "metadata": {},
   "outputs": [],
   "source": [
    "#Importando as bibliotecas\n",
    "import os\n",
    "import requests\n",
    "from bs4 import BeautifulSoup\n",
    "\n",
    "# URL da página do Governo Americano\n",
    "url = 'https://www.archives.gov/research/jfk/release-2025'\n",
    "\n",
    "# Pasta onde os PDFs serão salvos\n",
    "output_dir = 'kennedy_pdfs'\n",
    "os.makedirs(output_dir, exist_ok=True)\n",
    "\n",
    "# Função para baixar os PDF\n",
    "def download_pdf(pdf_url, output_path):\n",
    "    response = requests.get(pdf_url)\n",
    "    if response.status_code == 200:\n",
    "        with open(output_path, 'wb') as f:\n",
    "            f.write(response.content)\n",
    "        print(f'Sucesso ao baixar: {output_path}')\n",
    "    else:\n",
    "        print(f'Falha ao baixar: {pdf_url}')\n",
    "\n",
    "# Requisição\n",
    "response = requests.get(url)\n",
    "if response.status_code == 200:\n",
    "    soup = BeautifulSoup(response.content, 'html.parser')\n",
    "    # Encontra todos os links que terminam com .pdf\n",
    "    pdf_links = soup.find_all('a', href=lambda href: href and href.endswith('.pdf'))\n",
    "    for link in pdf_links:\n",
    "        pdf_url = link['href']\n",
    "        # Se o link for relativo, adiciona o domínio\n",
    "        if pdf_url.startswith('/'):\n",
    "            pdf_url = 'https://www.archives.gov' + pdf_url\n",
    "        pdf_name = pdf_url.split('/')[-1]\n",
    "        output_path = os.path.join(output_dir, pdf_name)\n",
    "        download_pdf(pdf_url, output_path)\n",
    "else:\n",
    "    print(f'Não foi possível acessar a página: {url}')\n"
   ]
  }
 ],
 "metadata": {
  "kernelspec": {
   "display_name": "Python 3 (ipykernel)",
   "language": "python",
   "name": "python3"
  },
  "language_info": {
   "codemirror_mode": {
    "name": "ipython",
    "version": 3
   },
   "file_extension": ".py",
   "mimetype": "text/x-python",
   "name": "python",
   "nbconvert_exporter": "python",
   "pygments_lexer": "ipython3",
   "version": "3.12.3"
  }
 },
 "nbformat": 4,
 "nbformat_minor": 5
}
